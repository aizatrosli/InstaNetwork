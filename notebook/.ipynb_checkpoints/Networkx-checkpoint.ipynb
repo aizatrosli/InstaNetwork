{
 "cells": [
  {
   "cell_type": "code",
   "execution_count": 1,
   "metadata": {},
   "outputs": [
    {
     "name": "stdout",
     "output_type": "stream",
     "text": [
      "pygame 1.9.4\n",
      "Hello from the pygame community. https://www.pygame.org/contribute.html\n"
     ]
    }
   ],
   "source": [
    "import os,sys,time\n",
    "ROOT_DIR = os.path.abspath(\"../\")\n",
    "sys.path.append(ROOT_DIR)\n",
    "\n",
    "import matplotlib.pyplot as plt\n",
    "import pandas as pd\n",
    "import networkx as nx\n",
    "from InstaNetwork.core import *"
   ]
  },
  {
   "cell_type": "code",
   "execution_count": 2,
   "metadata": {},
   "outputs": [
    {
     "name": "stdout",
     "output_type": "stream",
     "text": [
      "[InstaNetwork] Custom loader api for getUsernameId\n",
      "[InstaNetwork] Custom loader api for json\n",
      "[InstaNetwork] Custom loader api for logging\n",
      "[InstaNetwork] Custom loader api for login_challenge\n",
      "[InstaNetwork] Custom loader api for os\n",
      "[InstaNetwork] Custom loader api for sys\n",
      "[InstaNetwork] Custom loader api for time\n",
      "Request return 429 error!\n",
      "{'message': 'Please wait a few minutes before you try again.', 'status': 'fail'}\n",
      "Request return 405 error!\n",
      "{'message': '', 'status': 'fail'}\n",
      "Request return 404 error!\n",
      "Login success!\n",
      "\n",
      "Successfully Login.\n",
      "API_URL\n",
      "DEVICE_SETTINTS\n",
      "EXPERIMENTS\n",
      "IG_SIG_KEY\n",
      "LastJson\n",
      "LastResponse\n",
      "SIG_KEY_VERSION\n",
      "SendRequest\n",
      "USER_AGENT\n",
      "__class__\n",
      "__delattr__\n",
      "__dict__\n",
      "__dir__\n",
      "__doc__\n",
      "__eq__\n",
      "__format__\n",
      "__ge__\n",
      "__getattribute__\n",
      "__gt__\n",
      "__hash__\n",
      "__init__\n",
      "__init_subclass__\n",
      "__le__\n",
      "__lt__\n",
      "__module__\n",
      "__ne__\n",
      "__new__\n",
      "__reduce__\n",
      "__reduce_ex__\n",
      "__repr__\n",
      "__setattr__\n",
      "__sizeof__\n",
      "__str__\n",
      "__subclasshook__\n",
      "__weakref__\n",
      "autoCompleteUserList\n",
      "backup\n",
      "block\n",
      "buildBody\n",
      "changePassword\n",
      "changeProfilePicture\n",
      "comment\n",
      "configure\n",
      "configureTimelineAlbum\n",
      "configureVideo\n",
      "deleteComment\n",
      "deleteMedia\n",
      "device_id\n",
      "direct_share\n",
      "editMedia\n",
      "editProfile\n",
      "explore\n",
      "expose\n",
      "fbUserSearch\n",
      "follow\n",
      "generateDeviceId\n",
      "generateSignature\n",
      "generateUUID\n",
      "generateUploadId\n",
      "getDirectShare\n",
      "getFollowingRecentActivity\n",
      "getGeoMedia\n",
      "getHashtagFeed\n",
      "getLikedMedia\n",
      "getLocationFeed\n",
      "getMediaComments\n",
      "getMediaLikers\n",
      "getPopularFeed\n",
      "getProfileData\n",
      "getRecentActivity\n",
      "getSelfGeoMedia\n",
      "getSelfSavedMedia\n",
      "getSelfUserFeed\n",
      "getSelfUserFollowers\n",
      "getSelfUserTags\n",
      "getSelfUsernameInfo\n",
      "getSelfUsersFollowing\n",
      "getTimeline\n",
      "getTotalFollowers\n",
      "getTotalFollowings\n",
      "getTotalLikedMedia\n",
      "getTotalSelfFollowers\n",
      "getTotalSelfFollowings\n",
      "getTotalSelfUserFeed\n",
      "getTotalUserFeed\n",
      "getUserFeed\n",
      "getUserFollowers\n",
      "getUserFollowings\n",
      "getUserTags\n",
      "getUsernameId\n",
      "getUsernameInfo\n",
      "getv2Inbox\n",
      "getv2Threads\n",
      "isLoggedIn\n",
      "json\n",
      "like\n",
      "logging\n",
      "login\n",
      "login_challenge\n",
      "logout\n",
      "mediaInfo\n",
      "megaphoneLog\n",
      "os\n",
      "password\n",
      "rank_token\n",
      "removeProfilePicture\n",
      "removeSelftag\n",
      "s\n",
      "searchLocation\n",
      "searchTags\n",
      "searchUsername\n",
      "searchUsers\n",
      "setNameAndPhone\n",
      "setPrivateAccount\n",
      "setProxy\n",
      "setPublicAccount\n",
      "setUser\n",
      "syncFeatures\n",
      "syncFromAdressBook\n",
      "sys\n",
      "tagFeed\n",
      "throwIfInvalidUsertags\n",
      "time\n",
      "timelineFeed\n",
      "token\n",
      "unblock\n",
      "unfollow\n",
      "unlike\n",
      "uploadAlbum\n",
      "uploadPhoto\n",
      "uploadVideo\n",
      "userFriendship\n",
      "username\n",
      "username_id\n",
      "uuid\n"
     ]
    }
   ],
   "source": [
    "api = start()"
   ]
  },
  {
   "cell_type": "code",
   "execution_count": 3,
   "metadata": {},
   "outputs": [
    {
     "data": {
      "text/plain": [
       "301652162"
      ]
     },
     "execution_count": 3,
     "metadata": {},
     "output_type": "execute_result"
    }
   ],
   "source": [
    "api.username_id"
   ]
  },
  {
   "cell_type": "code",
   "execution_count": 4,
   "metadata": {},
   "outputs": [
    {
     "data": {
      "text/plain": [
       "'aaizatrosli'"
      ]
     },
     "execution_count": 4,
     "metadata": {},
     "output_type": "execute_result"
    }
   ],
   "source": [
    "api.username"
   ]
  },
  {
   "cell_type": "code",
   "execution_count": 5,
   "metadata": {},
   "outputs": [
    {
     "ename": "TypeError",
     "evalue": "getUsernameInfo() missing 1 required positional argument: 'usernameId'",
     "output_type": "error",
     "traceback": [
      "\u001b[1;31m---------------------------------------------------------------------------\u001b[0m",
      "\u001b[1;31mTypeError\u001b[0m                                 Traceback (most recent call last)",
      "\u001b[1;32m<ipython-input-5-56a7cd16226e>\u001b[0m in \u001b[0;36m<module>\u001b[1;34m\u001b[0m\n\u001b[1;32m----> 1\u001b[1;33m \u001b[0mapi\u001b[0m\u001b[1;33m.\u001b[0m\u001b[0mgetUsernameInfo\u001b[0m\u001b[1;33m(\u001b[0m\u001b[1;33m)\u001b[0m\u001b[1;33m\u001b[0m\u001b[1;33m\u001b[0m\u001b[0m\n\u001b[0m",
      "\u001b[1;31mTypeError\u001b[0m: getUsernameInfo() missing 1 required positional argument: 'usernameId'"
     ]
    }
   ],
   "source": [
    "api.getUsernameInfo()"
   ]
  },
  {
   "cell_type": "code",
   "execution_count": null,
   "metadata": {},
   "outputs": [],
   "source": [
    "api.ver"
   ]
  },
  {
   "cell_type": "code",
   "execution_count": null,
   "metadata": {},
   "outputs": [],
   "source": [
    "api.new"
   ]
  },
  {
   "cell_type": "code",
   "execution_count": null,
   "metadata": {},
   "outputs": [],
   "source": []
  }
 ],
 "metadata": {
  "kernelspec": {
   "display_name": "Python 3",
   "language": "python",
   "name": "python3"
  },
  "language_info": {
   "codemirror_mode": {
    "name": "ipython",
    "version": 3
   },
   "file_extension": ".py",
   "mimetype": "text/x-python",
   "name": "python",
   "nbconvert_exporter": "python",
   "pygments_lexer": "ipython3",
   "version": "3.7.1"
  }
 },
 "nbformat": 4,
 "nbformat_minor": 2
}
