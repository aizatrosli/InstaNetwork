{
 "cells": [
  {
   "cell_type": "code",
   "execution_count": 1,
   "metadata": {},
   "outputs": [
    {
     "name": "stdout",
     "output_type": "stream",
     "text": [
      "pygame 1.9.4\n",
      "Hello from the pygame community. https://www.pygame.org/contribute.html\n"
     ]
    }
   ],
   "source": [
    "import os,sys,time\n",
    "ROOT_DIR = os.path.abspath(\"../\")\n",
    "sys.path.append(ROOT_DIR)\n",
    "\n",
    "import matplotlib.pyplot as plt\n",
    "import pandas as pd\n",
    "import networkx as nx\n",
    "from InstaNetwork.core import *"
   ]
  },
  {
   "cell_type": "markdown",
   "metadata": {},
   "source": [
    "## For testing custom methods \n",
    "\n",
    "- using fazerdaze as testing target ❤"
   ]
  },
  {
   "cell_type": "code",
   "execution_count": 2,
   "metadata": {},
   "outputs": [
    {
     "name": "stdout",
     "output_type": "stream",
     "text": [
      "[InstaNetwork] Custom loader api for getHighLevelNodeProfile.\n",
      "[InstaNetwork] Custom loader api for getUsernameId.\n",
      "[InstaNetwork] Custom loader api for login_challenge.\n",
      "Request return 429 error!\n",
      "{'message': 'Please wait a few minutes before you try again.', 'status': 'fail'}\n",
      "Request return 405 error!\n",
      "{'message': '', 'status': 'fail'}\n",
      "Request return 404 error!\n",
      "Login success!\n",
      "\n",
      "Successfully Login.\n"
     ]
    }
   ],
   "source": [
    "_username=\"fazerdaze\"\n",
    "\n",
    "api = start()"
   ]
  },
  {
   "cell_type": "markdown",
   "metadata": {},
   "source": [
    "getUsernameId"
   ]
  },
  {
   "cell_type": "code",
   "execution_count": 3,
   "metadata": {},
   "outputs": [
    {
     "data": {
      "text/plain": [
       "275973243"
      ]
     },
     "execution_count": 3,
     "metadata": {},
     "output_type": "execute_result"
    }
   ],
   "source": [
    "_userid= api.getUsernameId(_username)\n",
    "_userid"
   ]
  },
  {
   "cell_type": "markdown",
   "metadata": {},
   "source": [
    "getHighLevelNodeProfile"
   ]
  },
  {
   "cell_type": "code",
   "execution_count": 4,
   "metadata": {},
   "outputs": [
    {
     "data": {
      "text/plain": [
       "({'user': {'pk': 275973243,\n",
       "   'username': 'fazerdaze',\n",
       "   'full_name': 'fazerdaze',\n",
       "   'is_private': False,\n",
       "   'profile_pic_url': 'https://instagram.fkul5-2.fna.fbcdn.net/v/t51.2885-19/s150x150/68657815_379736099369679_8547943267977658368_n.jpg?_nc_ht=instagram.fkul5-2.fna.fbcdn.net&_nc_ohc=kHz-XfbcOs8AX9T0c5o&oh=428f5adb779d5288a2bea8666b0eb2ab&oe=5EC747F5',\n",
       "   'profile_pic_id': '2135373102980735754_275973243',\n",
       "   'is_verified': False,\n",
       "   'has_anonymous_profile_picture': False,\n",
       "   'media_count': 184,\n",
       "   'geo_media_count': 0,\n",
       "   'follower_count': 42524,\n",
       "   'following_count': 472,\n",
       "   'following_tag_count': 0,\n",
       "   'biography': 'bedroom dweller/musician',\n",
       "   'external_url': 'https://fazerdaze.bandcamp.com/',\n",
       "   'external_lynx_url': 'https://l.instagram.com/?u=https%3A%2F%2Ffazerdaze.bandcamp.com%2F&e=ATNyIfrg-ShGtphp2pNFy7qP_gHTKjLKe6Q_tCJI7GrgmIhbNGfJAMdOy2obT8OL7bzUQXD6OmN19brKDuSgc7nuuwjRIj3C',\n",
       "   'total_igtv_videos': 0,\n",
       "   'usertags_count': 1554,\n",
       "   'is_favorite': False,\n",
       "   'has_chaining': True,\n",
       "   'hd_profile_pic_versions': [{'width': 320,\n",
       "     'height': 320,\n",
       "     'url': 'https://instagram.fkul5-2.fna.fbcdn.net/v/t51.2885-19/s320x320/68657815_379736099369679_8547943267977658368_n.jpg?_nc_ht=instagram.fkul5-2.fna.fbcdn.net&_nc_ohc=kHz-XfbcOs8AX9T0c5o&oh=71fb3649c3f15e328ad3117cd170c204&oe=5ED64205'}],\n",
       "   'hd_profile_pic_url_info': {'url': 'https://instagram.fkul5-2.fna.fbcdn.net/v/t51.2885-19/68657815_379736099369679_8547943267977658368_n.jpg?_nc_ht=instagram.fkul5-2.fna.fbcdn.net&_nc_ohc=kHz-XfbcOs8AX9T0c5o&oh=0433547089c98ce79394e3a141704e1c&oe=5ED0E00F',\n",
       "    'width': 383,\n",
       "    'height': 383},\n",
       "   'mutual_followers_count': 0,\n",
       "   'is_business': False,\n",
       "   'account_type': 1,\n",
       "   'professional_conversion_suggested_account_type': 3,\n",
       "   'is_call_to_action_enabled': None},\n",
       "  'status': 'ok'},\n",
       " {'user': {'pk': 275973243,\n",
       "   'username': 'fazerdaze',\n",
       "   'full_name': 'fazerdaze',\n",
       "   'is_private': False,\n",
       "   'profile_pic_url': 'https://instagram.fkul5-2.fna.fbcdn.net/v/t51.2885-19/s150x150/68657815_379736099369679_8547943267977658368_n.jpg?_nc_ht=instagram.fkul5-2.fna.fbcdn.net&_nc_ohc=kHz-XfbcOs8AX9T0c5o&oh=428f5adb779d5288a2bea8666b0eb2ab&oe=5EC747F5',\n",
       "   'profile_pic_id': '2135373102980735754_275973243',\n",
       "   'is_verified': False,\n",
       "   'has_anonymous_profile_picture': False,\n",
       "   'media_count': 184,\n",
       "   'geo_media_count': 0,\n",
       "   'follower_count': 42524,\n",
       "   'following_count': 472,\n",
       "   'following_tag_count': 0,\n",
       "   'biography': 'bedroom dweller/musician',\n",
       "   'external_url': 'https://fazerdaze.bandcamp.com/',\n",
       "   'external_lynx_url': 'https://l.instagram.com/?u=https%3A%2F%2Ffazerdaze.bandcamp.com%2F&e=ATPfeDNBuY9U61TwNnY7m_uUQI7zsMetbRhtu90bufd7y7u_kS99GpHMHjVNDvo-eWCEKc6JGD_mMwnW4klxicT3T5C8q8Lz',\n",
       "   'total_igtv_videos': 0,\n",
       "   'total_ar_effects': 0,\n",
       "   'usertags_count': 1554,\n",
       "   'is_favorite': False,\n",
       "   'is_interest_account': True,\n",
       "   'has_chaining': True,\n",
       "   'hd_profile_pic_versions': [{'width': 320,\n",
       "     'height': 320,\n",
       "     'url': 'https://instagram.fkul5-2.fna.fbcdn.net/v/t51.2885-19/s320x320/68657815_379736099369679_8547943267977658368_n.jpg?_nc_ht=instagram.fkul5-2.fna.fbcdn.net&_nc_ohc=kHz-XfbcOs8AX9T0c5o&oh=71fb3649c3f15e328ad3117cd170c204&oe=5ED64205'}],\n",
       "   'hd_profile_pic_url_info': {'url': 'https://instagram.fkul5-2.fna.fbcdn.net/v/t51.2885-19/68657815_379736099369679_8547943267977658368_n.jpg?_nc_ht=instagram.fkul5-2.fna.fbcdn.net&_nc_ohc=kHz-XfbcOs8AX9T0c5o&oh=0433547089c98ce79394e3a141704e1c&oe=5ED0E00F',\n",
       "    'width': 383,\n",
       "    'height': 383},\n",
       "   'mutual_followers_count': 0,\n",
       "   'has_highlight_reels': False,\n",
       "   'can_be_reported_as_fraud': False,\n",
       "   'is_business': False,\n",
       "   'account_type': 1,\n",
       "   'professional_conversion_suggested_account_type': 3,\n",
       "   'is_call_to_action_enabled': None,\n",
       "   'include_direct_blacklist_status': True,\n",
       "   'is_potential_business': False,\n",
       "   'is_bestie': False,\n",
       "   'has_unseen_besties_media': False,\n",
       "   'show_account_transparency_details': False,\n",
       "   'show_leave_feedback': False,\n",
       "   'auto_expand_chaining': False,\n",
       "   'highlight_reshare_disabled': False,\n",
       "   'show_post_insights_entry_point': False,\n",
       "   'about_your_account_bloks_entrypoint_enabled': False},\n",
       "  'status': 'ok'})"
      ]
     },
     "execution_count": 4,
     "metadata": {},
     "output_type": "execute_result"
    }
   ],
   "source": [
    "infoname = api.getHighLevelNodeProfile(_username)\n",
    "infoid = api.getHighLevelNodeProfile(_userid)\n",
    "infoname,infoid"
   ]
  },
  {
   "cell_type": "code",
   "execution_count": 5,
   "metadata": {},
   "outputs": [
    {
     "data": {
      "text/plain": [
       "{'dictionary_item_added': [root['user']['total_ar_effects'], root['user']['show_post_insights_entry_point'], root['user']['include_direct_blacklist_status'], root['user']['highlight_reshare_disabled'], root['user']['show_account_transparency_details'], root['user']['can_be_reported_as_fraud'], root['user']['show_leave_feedback'], root['user']['is_bestie'], root['user']['has_highlight_reels'], root['user']['has_unseen_besties_media'], root['user']['auto_expand_chaining'], root['user']['about_your_account_bloks_entrypoint_enabled'], root['user']['is_interest_account'], root['user']['is_potential_business']],\n",
       " 'values_changed': {\"root['user']['external_lynx_url']\": {'new_value': 'https://l.instagram.com/?u=https%3A%2F%2Ffazerdaze.bandcamp.com%2F&e=ATPfeDNBuY9U61TwNnY7m_uUQI7zsMetbRhtu90bufd7y7u_kS99GpHMHjVNDvo-eWCEKc6JGD_mMwnW4klxicT3T5C8q8Lz',\n",
       "   'old_value': 'https://l.instagram.com/?u=https%3A%2F%2Ffazerdaze.bandcamp.com%2F&e=ATNyIfrg-ShGtphp2pNFy7qP_gHTKjLKe6Q_tCJI7GrgmIhbNGfJAMdOy2obT8OL7bzUQXD6OmN19brKDuSgc7nuuwjRIj3C'}}}"
      ]
     },
     "execution_count": 5,
     "metadata": {},
     "output_type": "execute_result"
    }
   ],
   "source": [
    "from deepdiff import DeepDiff\n",
    "ddiff = DeepDiff(infoname, infoid, ignore_order=True)\n",
    "ddiff\n",
    "#using username_id has more info"
   ]
  },
  {
   "cell_type": "code",
   "execution_count": null,
   "metadata": {},
   "outputs": [],
   "source": []
  }
 ],
 "metadata": {
  "kernelspec": {
   "display_name": "Python 3",
   "language": "python",
   "name": "python3"
  },
  "language_info": {
   "codemirror_mode": {
    "name": "ipython",
    "version": 3
   },
   "file_extension": ".py",
   "mimetype": "text/x-python",
   "name": "python",
   "nbconvert_exporter": "python",
   "pygments_lexer": "ipython3",
   "version": "3.7.1"
  }
 },
 "nbformat": 4,
 "nbformat_minor": 2
}
