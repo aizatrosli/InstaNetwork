{
 "cells": [
  {
   "cell_type": "markdown",
   "metadata": {},
   "source": [
    "# Social Network Analysis #\n",
    "\n",
    "Notes from other sources."
   ]
  },
  {
   "cell_type": "markdown",
   "metadata": {},
   "source": [
    "### Graph Theory ###\n",
    "\n",
    "* mathematical representation of a network used to **model pairwise relations** between objects.\n",
    "* graph consists of a set of **vertices** or **nodes**, with certain pairs of these nodes connected **edges[undirected]** or **arcs[directed]**.\n",
    "\n",
    "### Type of Graphs ###\n",
    "* undirected : there is **no distinction** between the two vertices associated with each edge. \n",
    "(example : **coauthorship network, actor network, Facebook frienship network**)\n",
    "* directed : vice versa from undirected. \n",
    "(example : **URL, phone calls, retweet network**)\n",
    "\n",
    "![test](https://www.differencebetween.com/wp-content/uploads/2011/05/DifferenceBetween_Directed_UnDirected_Graphs1.jpg \"DirectedVSUndirected\")\n",
    "\n",
    "### Representation of Graphs ###\n",
    "#### **Adjacency matrix (undirected graph)** ####\n",
    "* A<sub>ij</sub> = 1 if there is a link.\n",
    "* Adjacency is symmetric for undirected graph.\n",
    "\n",
    "$$\\begin{bmatrix}   & 1 & 2 & 3 & 4 & 5 & 6 \\\\ 1 & 0 & 1 & 0 & 0 & 1 & 0 \\\\ 2 & 1 & 0 & 1 & 0 & 1 & 0 \\\\ 3 & 0 & 1 & 0 & 1 & 0 & 0 \\\\ 4 & 0 & 0 & 1 & 0 & 1 & 1 \\\\ 5 & 1 & 1 & 0 & 1 & 0 & 0 \\\\ 6 & 0 & 0 & 0 & 1 & 0 & 0 \\end{bmatrix}$$\n",
    "\n",
    "#### **Adjacency matrix (directed graph)** ####\n",
    "* A<sub>ij</sub> = 1 if there is a link.\n",
    "* Example : 2->3 (A<sub>32</sub>)\n",
    "\n",
    "$$\\begin{bmatrix}   & 1 & 2 & 3 & 4 & 5 \\\\ 1 & 0 & 0 & 0 & 0 & 0 \\\\ 2 & 1 & 0 & 0 & 1 & 0 \\\\ 3 & 0 & 1 & 0 & 1 & 0 \\\\ 4 & 0 & 1 & 0 & 0 & 1 \\\\ 5 & 0 & 1 & 0 & 0 & 0 \\end{bmatrix}$$\n",
    "\n",
    "#### **Edge list (undirected graph)** ####\n",
    "(1,2)  \n",
    "(1,5)  \n",
    "(2,3)  \n",
    "(2,5)  \n",
    "(3,4)  \n",
    "(4,5)  \n",
    "(4,6)  \n",
    "\n",
    "#### **Edge list (directed graph)** ####\n",
    "12  \n",
    "23  \n",
    "24  \n",
    "42  \n",
    "25  \n",
    "43  \n",
    "45  \n",
    "\n",
    "### Graph-theoretic Concepts ###\n",
    "#### **Degree (undirected graph)** ####\n",
    "* **Degree of any node i**: the number of nodes adjacent to i.  \n",
    "\n",
    "| node | degree |\n",
    "|------|--------|\n",
    "| 1    | 2      |\n",
    "| 2    | 3      |\n",
    "| 3    | 2      |\n",
    "| 4    | 3      |\n",
    "| 5    | 3      |\n",
    "| 6    | 1      |\n",
    "\n",
    "#### **Indegree and outdegree (directed graph)** ####\n",
    "* **Indegree of any node i**: the number of nodes destined to i.\n",
    "* **Outdegree of any node i**: the number of nodes originated at i.\n",
    "\n",
    "| node | indegree | outdegree |\n",
    "|------|----------|-----------|\n",
    "| 1    | 0        | 1         |\n",
    "| 2    | 2        | 3         |\n",
    "| 3    | 2        | 0         |\n",
    "| 4    | 2        | 2         |\n",
    "| 5    | 1        | 1         |\n",
    "\n",
    "\n",
    "#### **Walk and Path** ####\n",
    "* **Walk**: walk is a sequence of nodes in which each node is adjacent to the next one.\n",
    "* **Path**: walk without passing through the same link more than once.\n",
    "* **Cycle**: path with the same start and end node.\n",
    "\n",
    "#### **Distance** ####\n",
    "* Distance d<sub>ij</sub> (shortest path, geodesic path) between two nodes i and j is the number of edges along the shortest path connecting them.\n",
    "* Directed graphs, the distance from one node A to another B is generally different from that from B to A.\n",
    "\n",
    "$$\\begin{bmatrix}   & 1 & 2 & 3 & 4 & 5 & 6 \\\\ 1 & 0 & 2 & 2 & 2 & 1 & 3 \\\\ 2 & 1 & 1 & 2 & 2 & 1 & 3 \\\\ 3 & 2 & 0 & 1 & 1 & 2 & 2 \\\\ 4 & 2 & 1 & 0 & 0 & 1 & 1 \\\\ 5 & 1 & 2 & 1 & 1 & 0 & 2 \\\\ 6 & 3 & 2 & 1 & 1 & 2 & 0 \\end{bmatrix}$$\n",
    "\n",
    "#### **Clustering Coefficient** ####\n",
    "* For \n"
   ]
  },
  {
   "cell_type": "code",
   "execution_count": null,
   "metadata": {},
   "outputs": [],
   "source": []
  },
  {
   "cell_type": "code",
   "execution_count": 1,
   "metadata": {},
   "outputs": [],
   "source": [
    "import networkx as nx\n",
    "import matplotlib.pyplot as plt\n",
    "%matplotlib inline\n",
    "\n",
    "G = nx.Graph() #initialize dummy graph"
   ]
  },
  {
   "cell_type": "markdown",
   "metadata": {},
   "source": [
    "#### Core component for networkx ####\n",
    "- nodes : represent as circles\n",
    "- edges : represented as lines between circles"
   ]
  },
  {
   "cell_type": "code",
   "execution_count": 2,
   "metadata": {},
   "outputs": [
    {
     "name": "stderr",
     "output_type": "stream",
     "text": [
      "C:\\Users\\aizat\\Anaconda3\\lib\\site-packages\\networkx\\drawing\\nx_pylab.py:611: MatplotlibDeprecationWarning: isinstance(..., numbers.Number)\n",
      "  if cb.is_numlike(alpha):\n"
     ]
    },
    {
     "data": {
      "image/png": "[encoded data removed]",
      "text/plain": [
       "<Figure size 432x288 with 1 Axes>"
      ]
     },
     "metadata": {},
     "output_type": "display_data"
    }
   ],
   "source": [
    "#Single node\n",
    "G.add_node(\"Doraemon\", size=10, label='fuck')\n",
    "G.add_node(\"Sizuka\")\n",
    "#Multiple node \n",
    "G.add_nodes_from(['Giant','Suniyu'])\n",
    "#Single edge\n",
    "G.add_edge(\"Doraemon\", \"Sizuka\")\n",
    "#Multiple edge\n",
    "G.add_edges_from([('Doraemon','Suniyu'),('Doraemon','Giant')])\n",
    "#draw dat bich\n",
    "nx.draw(G, with_labels = True)\n",
    "plt.show()"
   ]
  },
  {
   "cell_type": "markdown",
   "metadata": {},
   "source": [
    "Example usage\n",
    "- facebook/twitter : [node] people [edge] network friends [undirected network] edges do not have a directionality associated with them\n",
    "- air traffic : [node] airport [edge] flight between airport [directed network] edges do have a directionality associated with them\n"
   ]
  },
  {
   "cell_type": "code",
   "execution_count": null,
   "metadata": {},
   "outputs": [],
   "source": []
  },
  {
   "cell_type": "markdown",
   "metadata": {},
   "source": [
    "\n",
    "\n",
    "Network Connectivity\n",
    "- Degree\n",
    "- Clustering Coefficient\n",
    "- Local Clustering Coefficient\n",
    "- Distance\n",
    "- Eccentricity\n",
    "\n",
    "Network Influencers [https://cambridge-intelligence.com/social-network-analysis/]\n",
    "- Degree Centrality\n",
    ":The degree centrality measure finds nodes with the **highest number of links to other nodes** in the network. Nodes with a **high degree centrality have the best connections** to those around them – **they might be influential**, or just strategically well-placed.\n",
    "\n",
    "- Betweenness Centrality\n",
    ":Nodes with a high betweenness **centrality score are the ones that most frequently act as ‘bridges’** between other nodes. They form the shortest pathways of communication within the network.\n",
    "Usually this would **indicate important gatekeepers** of information between groups.\n",
    "\n",
    "- Closeness Centrality\n",
    ":This is the measure that helps you find the **nodes that are closest to the other nodes** in a network, based on their ability to reach them.\n",
    "To calculate this, the algorithm **finds the shortest path between each node**, then assigns each node a **score based on the sum of all the paths**.\n",
    "Nodes with a high closeness value have a lower distance to all other nodes. They’d be **efficient broadcasters of information**.\n",
    "\n",
    "- PageRank\n",
    ":PageRank identifies important nodes by assigning each a score based upon its **number of incoming links** (its ‘indegree’). These links are **weighted depending on the relative score** of its originating node.\n",
    "\n",
    "- Eigenvector Centrality/EigenCentrality\n",
    ":Very similar to PageRank, Eigenvector centrality is a **measure of influence that takes into account the number of links** each node has and the number of links their connections have, and so on throughout the network.\n"
   ]
  },
  {
   "cell_type": "code",
   "execution_count": null,
   "metadata": {},
   "outputs": [],
   "source": []
  },
  {
   "cell_type": "markdown",
   "metadata": {},
   "source": [
    "Edge weight depends on?likes and comments count?"
   ]
  },
  {
   "cell_type": "code",
   "execution_count": null,
   "metadata": {},
   "outputs": [],
   "source": []
  }
 ],
 "metadata": {
  "kernelspec": {
   "display_name": "Python 3",
   "language": "python",
   "name": "python3"
  },
  "language_info": {
   "codemirror_mode": {
    "name": "ipython",
    "version": 3
   },
   "file_extension": ".py",
   "mimetype": "text/x-python",
   "name": "python",
   "nbconvert_exporter": "python",
   "pygments_lexer": "ipython3",
   "version": "3.7.1"
  }
 },
 "nbformat": 4,
 "nbformat_minor": 2
}
